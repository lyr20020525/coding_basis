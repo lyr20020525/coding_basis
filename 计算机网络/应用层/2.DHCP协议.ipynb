{
 "cells": [
  {
   "cell_type": "markdown",
   "metadata": {},
   "source": [
    "# DHCP协议\n",
    "- Dynamic Host Configuration Protocol：动态主机设置协议\n",
    "- DHCP协议是一个局域网(内部网)\n",
    "- DHCP是应用UDP协议的应用层协议。"
   ]
  },
  {
   "cell_type": "markdown",
   "metadata": {},
   "source": [
    "## 问题：\n",
    "我们的手机总时在移动位置，这样来看手机的IP好像一直在变，这样需要不断配置新的IP地址。但是实际上我们并不需要。\n",
    "\n",
    "## 解决的方法\n",
    "![](images/2022-09-03-14-10-49.png)"
   ]
  },
  {
   "cell_type": "markdown",
   "metadata": {},
   "source": [
    "### \n",
    "![](images/2022-09-03-14-16-15.png)\n",
    ">当选择1时候，相当于启动DHCP协议，连接网络时会自动分配一个临时IP，无需自己配置。临时IP一般都是内网的地址，再结合NAT技术进行网络传输。\n",
    "\n",
    ">有租期的概念，可以续租。"
   ]
  },
  {
   "cell_type": "markdown",
   "metadata": {},
   "source": [
    "### DHCP的过程\n",
    "![](images/2022-09-03-14-18-20.png)"
   ]
  }
 ],
 "metadata": {
  "kernelspec": {
   "display_name": "Python 3.9.12 ('base')",
   "language": "python",
   "name": "python3"
  },
  "language_info": {
   "name": "python",
   "version": "3.9.12"
  },
  "orig_nbformat": 4,
  "vscode": {
   "interpreter": {
    "hash": "40f6bf15338c0154930a244fc3026a0d17ebaa8f8b3b254c75ff612c4b63945b"
   }
  }
 },
 "nbformat": 4,
 "nbformat_minor": 2
}
