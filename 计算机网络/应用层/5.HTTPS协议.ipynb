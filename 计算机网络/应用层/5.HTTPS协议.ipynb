{
 "cells": [
  {
   "cell_type": "markdown",
   "metadata": {},
   "source": [
    "# HTTPS协议详解\n",
    ">由于http是明文传输的，随着网络越来越发达，我们对网络的安全提出了越来越高的要求。我们会在网站上填一些需要保护的信息，这样用HTTP就是不安全的的\n",
    "\n",
    ">![](images/2022-09-03-16-17-59.png)\n",
    "\n",
    ">![](images/2022-09-03-16-18-39.png)"
   ]
  },
  {
   "cell_type": "markdown",
   "metadata": {},
   "source": [
    "## HTPPS的加密模型\n",
    "\n",
    "### 对称加密\n",
    "- 加密和解密使用同样的密钥\n",
    "- >![](images/image.png.png)\n",
    "\n",
    "\n",
    "### 非对称加密\n",
    "- 加密和解密使用不一样的密钥\n",
    "- A、B是拥有一定数学关系的一组密钥\n",
    "- >![](images/2022-09-03-16-22-33.png)\n",
    "- 私钥：私钥自己使用，不对外公开\n",
    "- 公钥：公钥给大家使用，对外公开\n",
    "\n",
    "例子：别人向我的服务器发送数据，使用公钥进行加密，理论上他们无法对自己的加密数据进行解密，只有我可以解密\n",
    ">![](images/2022-09-03-16-25-06.png)\n",
    "\n",
    "### 数字证书\n",
    "- 数字证书是**可信任组织**颁发给**特定对象**的认证\n",
    ">只有客户端和服务端都认为其安全，其为可信任组织\n",
    ">特定对象：只要可以使用数据证书的都可以称为特定对象\n",
    "\n",
    "![](images/2022-09-03-16-48-51.png)\n",
    "\n",
    "### SSL\n",
    "- Secure Sockets Layer：安全套接层\n",
    "\n",
    "- 数据安全和数据完整\n",
    "- 对传输层数据进行加密后传输"
   ]
  },
  {
   "cell_type": "markdown",
   "metadata": {},
   "source": [
    "## HTTPS过程"
   ]
  },
  {
   "cell_type": "markdown",
   "metadata": {},
   "source": [
    "![](images/2022-09-03-17-12-57.png)\n",
    "- 重点是第二个步骤"
   ]
  },
  {
   "cell_type": "markdown",
   "metadata": {},
   "source": [
    "### SSL安全传输握手\n",
    "- 四个步骤\n",
    "![](images/2022-09-03-17-18-09.png)\n",
    "![](images/2022-09-03-17-22-32.png)\n"
   ]
  }
 ],
 "metadata": {
  "kernelspec": {
   "display_name": "Python 3.9.12 ('base')",
   "language": "python",
   "name": "python3"
  },
  "language_info": {
   "name": "python",
   "version": "3.9.12"
  },
  "orig_nbformat": 4,
  "vscode": {
   "interpreter": {
    "hash": "40f6bf15338c0154930a244fc3026a0d17ebaa8f8b3b254c75ff612c4b63945b"
   }
  }
 },
 "nbformat": 4,
 "nbformat_minor": 2
}
